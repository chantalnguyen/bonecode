{
 "cells": [
  {
   "cell_type": "markdown",
   "metadata": {},
   "source": [
    "### Visualization of crack propagation in space and time"
   ]
  },
  {
   "cell_type": "code",
   "execution_count": 1,
   "metadata": {},
   "outputs": [],
   "source": [
    "%matplotlib ipympl\n",
    "import numpy as np\n",
    "import matplotlib.pyplot as plt\n",
    "from mpl_toolkits.mplot3d import Axes3D\n",
    "from sklearn.cluster import DBSCAN"
   ]
  },
  {
   "cell_type": "markdown",
   "metadata": {},
   "source": [
    "Specify dilation factor"
   ]
  },
  {
   "cell_type": "code",
   "execution_count": 62,
   "metadata": {},
   "outputs": [],
   "source": [
    "df = 3"
   ]
  },
  {
   "cell_type": "code",
   "execution_count": 63,
   "metadata": {},
   "outputs": [],
   "source": [
    "node = np.genfromtxt(\"309555-e\"+str(df)+\"-node.txt\",delimiter = ',')\n",
    "link = np.genfromtxt(\"309555-e\"+str(df)+\"-link.txt\",delimiter = ',')"
   ]
  },
  {
   "cell_type": "code",
   "execution_count": 64,
   "metadata": {},
   "outputs": [],
   "source": [
    "numElem = link.shape[0]"
   ]
  },
  {
   "cell_type": "markdown",
   "metadata": {},
   "source": [
    "Specify number of frames"
   ]
  },
  {
   "cell_type": "code",
   "execution_count": 65,
   "metadata": {},
   "outputs": [],
   "source": [
    "numFrames = 70"
   ]
  },
  {
   "cell_type": "markdown",
   "metadata": {},
   "source": [
    "Import status as numElem x 2 x numFrames array"
   ]
  },
  {
   "cell_type": "code",
   "execution_count": 66,
   "metadata": {},
   "outputs": [],
   "source": [
    "statuses = np.genfromtxt(\"statuses/309555-e\"+str(df)+\"-tension-mises_status.txt\",delimiter = ',',max_rows = numElem*numFrames)"
   ]
  },
  {
   "cell_type": "code",
   "execution_count": 67,
   "metadata": {},
   "outputs": [],
   "source": [
    "statuses = np.transpose(np.reshape(statuses.T,(2, numElem, numFrames),order = 'F'),(1,0,2))"
   ]
  },
  {
   "cell_type": "code",
   "execution_count": 68,
   "metadata": {},
   "outputs": [],
   "source": [
    "row_ind = np.argsort(statuses[:,0,:],0)"
   ]
  },
  {
   "cell_type": "code",
   "execution_count": 69,
   "metadata": {},
   "outputs": [],
   "source": [
    "for i in range(0,statuses.shape[2]):\n",
    "    sslice = statuses[:,:,i]\n",
    "    sslice = sslice[row_ind[:,i]]\n",
    "    statuses[:,:,i] = sslice"
   ]
  },
  {
   "cell_type": "markdown",
   "metadata": {},
   "source": [
    "Calculate link centroids"
   ]
  },
  {
   "cell_type": "code",
   "execution_count": 70,
   "metadata": {},
   "outputs": [],
   "source": [
    "centroids = np.zeros((link.shape[0],2))"
   ]
  },
  {
   "cell_type": "code",
   "execution_count": 71,
   "metadata": {},
   "outputs": [],
   "source": [
    "for i in range(0,link.shape[0]):\n",
    "    centroids[i,0] = (node[int(link[i,1]-1),1] + node[int(link[i,2]-1),1])/2\n",
    "    centroids[i,1] = (node[int(link[i,1]-1),2] + node[int(link[i,2]-1),2])/2"
   ]
  },
  {
   "cell_type": "markdown",
   "metadata": {},
   "source": [
    "Plot cracked points at time t"
   ]
  },
  {
   "cell_type": "markdown",
   "metadata": {},
   "source": [
    "Find clusters with DBSCAN algorithm"
   ]
  },
  {
   "cell_type": "code",
   "execution_count": 78,
   "metadata": {},
   "outputs": [
    {
     "data": {
      "application/vnd.jupyter.widget-view+json": {
       "model_id": "08fb8ce5722d42f39e1b804ea6d5a753",
       "version_major": 2,
       "version_minor": 0
      },
      "text/plain": [
       "FigureCanvasNbAgg()"
      ]
     },
     "metadata": {},
     "output_type": "display_data"
    }
   ],
   "source": [
    "fig, axes = plt.subplots(nrows=2, ncols=2)\n",
    "axes = axes.flatten()\n",
    "time = 58\n",
    "for i in range(4):\n",
    "    t = time+i\n",
    "    ax = axes[i]\n",
    "    crackpts = np.vstack((centroids[np.nonzero(statuses[:,1,t]==0)[0],0],centroids[np.nonzero(statuses[:,1,t]==0)[0],1])).T\n",
    "    ax.set_title('t='+str(t))\n",
    "    ax.scatter(centroids[:,0],centroids[:,1],color='yellow',zorder=0)\n",
    "    if not crackpts.size:\n",
    "        ax.scatter([],[])\n",
    "    else:\n",
    "        db = DBSCAN(eps=3, min_samples=10).fit(crackpts)\n",
    "        core_samples_mask = np.zeros_like(db.labels_, dtype=bool)\n",
    "        core_samples_mask[db.core_sample_indices_] = True\n",
    "        labels = db.labels_\n",
    "        n_clusters_ = len(set(labels)) - (1 if -1 in labels else 0)\n",
    "        unique_labels = set(labels)\n",
    "        colors = [plt.cm.Paired(each)\n",
    "                  for each in np.linspace(0, 1, len(unique_labels))]\n",
    "\n",
    "        for k, col in zip(unique_labels, colors):\n",
    "            if k == -1:\n",
    "                # Black used for noise.\n",
    "                col = [0, 0, 0, 1]\n",
    "\n",
    "            class_member_mask = (labels == k)\n",
    "\n",
    "            xy = crackpts[class_member_mask & core_samples_mask]\n",
    "            ax.plot(xy[:, 0], xy[:, 1], 'o', markerfacecolor=tuple(col),\n",
    "                     markeredgecolor='k', markersize=7)\n",
    "\n",
    "            xy = crackpts[class_member_mask & ~core_samples_mask]\n",
    "            ax.plot(xy[:, 0], xy[:, 1], 'o', markerfacecolor=tuple(col),\n",
    "                     markeredgecolor='k', markersize=3)\n",
    "        \n",
    "plt.suptitle('tension - erosion factor '+str(df))\n",
    "plt.show()"
   ]
  },
  {
   "cell_type": "markdown",
   "metadata": {},
   "source": [
    "3-D spacetime plots"
   ]
  },
  {
   "cell_type": "code",
   "execution_count": 662,
   "metadata": {},
   "outputs": [
    {
     "data": {
      "application/vnd.jupyter.widget-view+json": {
       "model_id": "5a49c088c8df42a28f7bddd13ae903f1",
       "version_major": 2,
       "version_minor": 0
      },
      "text/plain": [
       "FigureCanvasNbAgg()"
      ]
     },
     "metadata": {},
     "output_type": "display_data"
    }
   ],
   "source": [
    "t_start = 47\n",
    "fig = plt.figure()\n",
    "ax = fig.add_subplot(111,projection = '3d')\n",
    "colors = [plt.cm.Paired(each)\n",
    "            for each in np.linspace(0, 1, 5)]\n",
    "for t in range(t_start,t_start+7):\n",
    "    crackpts = np.vstack((centroids[np.nonzero(statuses[:,1,t]==0)[0],0],centroids[np.nonzero(statuses[:,1,t]==0)[0],1])).T\n",
    "    if not crackpts.size:\n",
    "        ax.scatter([],[])\n",
    "    else:\n",
    "        db = DBSCAN(eps=3, min_samples=10).fit(crackpts)\n",
    "        core_samples_mask = np.zeros_like(db.labels_, dtype=bool)\n",
    "        core_samples_mask[db.core_sample_indices_] = True\n",
    "        labels = db.labels_\n",
    "        n_clusters_ = len(set(labels)) - (1 if -1 in labels else 0)\n",
    "        unique_labels = set(labels)\n",
    "        for k, col in zip(unique_labels, colors):\n",
    "            if k == -1:\n",
    "                # Black used for noise.\n",
    "                col = [0, 0, 0, 1]\n",
    "\n",
    "            class_member_mask = (labels == k)\n",
    "\n",
    "            xy = crackpts[class_member_mask & core_samples_mask]\n",
    "            ax.scatter(xy[:, 0], xy[:, 1],t*np.ones_like(xy[:,0]), c=tuple(col),\n",
    "                     s=8)\n",
    "\n",
    "            xy = crackpts[class_member_mask & ~core_samples_mask]\n",
    "            ax.scatter(xy[:, 0], xy[:, 1],t*np.ones_like(xy[:,0]), c=tuple(col),\n",
    "                     s=2)\n",
    "\n",
    "    #     ax.scatter(crackpts[:,0],crackpts[:,1],t*np.ones_like(crackpts[:,0]))\n",
    "\n",
    "ax.set_zlabel('time', rotation=90)\n",
    "ax.set_zlim3d(t_start,t_start+6)\n",
    "plt.show()\n",
    "    "
   ]
  },
  {
   "cell_type": "code",
   "execution_count": 73,
   "metadata": {},
   "outputs": [],
   "source": [
    "plt.close('all')"
   ]
  },
  {
   "cell_type": "code",
   "execution_count": null,
   "metadata": {},
   "outputs": [],
   "source": []
  }
 ],
 "metadata": {
  "kernelspec": {
   "display_name": "Python 2",
   "language": "python",
   "name": "python2"
  },
  "language_info": {
   "codemirror_mode": {
    "name": "ipython",
    "version": 2
   },
   "file_extension": ".py",
   "mimetype": "text/x-python",
   "name": "python",
   "nbconvert_exporter": "python",
   "pygments_lexer": "ipython2",
   "version": "2.7.13"
  }
 },
 "nbformat": 4,
 "nbformat_minor": 2
}
